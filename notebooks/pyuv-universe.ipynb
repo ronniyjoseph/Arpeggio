{
 "cells": [
  {
   "cell_type": "code",
   "execution_count": 20,
   "id": "a2d68039",
   "metadata": {},
   "outputs": [],
   "source": [
    "import pyuvsim\n",
    "import pyuvdata\n",
    "import numpy\n",
    "import pandas\n",
    "import seaborn\n",
    "from matplotlib import pyplot as plt"
   ]
  },
  {
   "cell_type": "markdown",
   "id": "9bf1cc34",
   "metadata": {},
   "source": [
    "## Read in Vincent's CST beam files"
   ]
  },
  {
   "cell_type": "markdown",
   "id": "bcb491d8",
   "metadata": {},
   "source": [
    "Vincent's converts CST outs to .npy:\n",
    "- phi: 2D array with phi coordinates (Azimuthal) in DEGREE\n",
    "- theta: 2D Array with theta coordinates (Zenith Angle) in DEGREE\n",
    "- Freqs: 1D Array with frequency coordinates in GHz\n",
    "- Beams: 3D Array with beam values in Watts(??) per freqs, phi, theta\n",
    "\n",
    "This need to be converted HERA/CST text files to be imported by pyuvdata/pyuvsim"
   ]
  },
  {
   "cell_type": "code",
   "execution_count": 2,
   "id": "3dee44dd",
   "metadata": {},
   "outputs": [],
   "source": [
    "beam_path = \"/Users/ronniyjoseph/Sync/MSI_Fellowship/CHORD/Beam_Models/CST_Beams/\"\n",
    "# phi = numpy.load(beam_path + \"/45deg_20m_cable/all_phi.npy\")/180*numpy.pi\n",
    "# theta = numpy.load(beam_path + \"/45deg_20m_cable/all_theta.npy\")/180*numpy.pi\n",
    "# freqs = numpy.load(beam_path + \"/45deg_20m_cable/all_freqs.npy\")\n",
    "# beams = numpy.load(beam_path +\"/45deg_20m_cable/all_beams.npy\")"
   ]
  },
  {
   "cell_type": "markdown",
   "id": "9b5ff9ea",
   "metadata": {},
   "source": [
    "## Converting Vincent's beam files"
   ]
  },
  {
   "cell_type": "code",
   "execution_count": 40,
   "id": "fffc3446",
   "metadata": {},
   "outputs": [],
   "source": [
    "import os\n",
    "import glob\n",
    "from pyuvdata import UVBeam\n",
    "from pyuvdata.data import DATA_PATH\n",
    "import numpy as np\n",
    "beam = UVBeam()"
   ]
  },
  {
   "cell_type": "code",
   "execution_count": 8,
   "id": "f5ec1bc6",
   "metadata": {},
   "outputs": [],
   "source": [
    "filenames = sorted(glob.glob(beam_path + \"*.txt\"))"
   ]
  },
  {
   "cell_type": "code",
   "execution_count": 44,
   "id": "67876f8f",
   "metadata": {},
   "outputs": [
    {
     "name": "stdout",
     "output_type": "stream",
     "text": [
      "[3.0e+08 4.0e+08 5.0e+08 6.0e+08 7.0e+08 8.0e+08 9.0e+08 1.0e+09 1.1e+09\n",
      " 1.2e+09 1.3e+09 1.4e+09 1.5e+09]\n"
     ]
    }
   ],
   "source": [
    "frequencies = np.arange(0.3,1.6,0.1)*1e9\n",
    "print(frequencies)"
   ]
  },
  {
   "cell_type": "code",
   "execution_count": 45,
   "id": "bd84421b",
   "metadata": {},
   "outputs": [],
   "source": [
    "beam.read_cst_beam(filenames, beam_type='efield', frequency=frequencies,\n",
    "...                    feed_pol='x', rotate_pol=True, telescope_name='CHORD',\n",
    "...                    feed_name='PAPER_dipole', feed_version='0.1',\n",
    "...                    model_name='E-field pattern - Rigging height 4.9m',\n",
    "...                    model_version='1.0')"
   ]
  },
  {
   "cell_type": "code",
   "execution_count": 46,
   "id": "ee5686c2",
   "metadata": {},
   "outputs": [
    {
     "name": "stdout",
     "output_type": "stream",
     "text": [
      "efield\n"
     ]
    }
   ],
   "source": [
    "print(beam.beam_type)"
   ]
  },
  {
   "cell_type": "code",
   "execution_count": 55,
   "id": "f4bba13a",
   "metadata": {},
   "outputs": [],
   "source": [
    "beam.efield_to_power()"
   ]
  },
  {
   "cell_type": "code",
   "execution_count": 57,
   "id": "a67100a2",
   "metadata": {},
   "outputs": [
    {
     "data": {
      "image/png": "[encoded data removed]",
      "text/plain": [
       "<Figure size 432x288 with 1 Axes>"
      ]
     },
     "metadata": {
      "needs_background": "light"
     },
     "output_type": "display_data"
    }
   ],
   "source": [
    ">>> plt.plot(np.degrees(beam.axis2_array), abs(beam.data_array[0, 0, 0, 0, :, 0]) )\n",
    ">>> plt.yscale('log') \n",
    ">>> plt.xlabel('Zenith Angle (radians)') \n",
    ">>> plt.ylabel('Power') \n",
    ">>> plt.show() "
   ]
  },
  {
   "cell_type": "code",
   "execution_count": 59,
   "id": "dde76eed",
   "metadata": {},
   "outputs": [],
   "source": [
    "beam.write_beamfits('chord.uvbeam', clobber=True)"
   ]
  },
  {
   "cell_type": "code",
   "execution_count": null,
   "id": "dd0c4d39",
   "metadata": {},
   "outputs": [],
   "source": []
  }
 ],
 "metadata": {
  "kernelspec": {
   "display_name": "Python 3 (ipykernel)",
   "language": "python",
   "name": "python3"
  },
  "language_info": {
   "codemirror_mode": {
    "name": "ipython",
    "version": 3
   },
   "file_extension": ".py",
   "mimetype": "text/x-python",
   "name": "python",
   "nbconvert_exporter": "python",
   "pygments_lexer": "ipython3",
   "version": "3.7.9"
  }
 },
 "nbformat": 4,
 "nbformat_minor": 5
}
